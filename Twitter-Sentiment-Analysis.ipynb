{
 "cells": [
  {
   "cell_type": "markdown",
   "metadata": {},
   "source": [
    "# Twitter Sentiment Analysis"
   ]
  },
  {
   "cell_type": "code",
   "execution_count": 1,
   "metadata": {},
   "outputs": [],
   "source": [
    "import tweepy as tw\n",
    "import pandas as pd\n",
    "import numpy as np\n",
    "import matplotlib.pyplot as plt\n",
    "import seaborn as sns\n",
    "import datetime\n",
    "%matplotlib inline\n",
    "import re\n",
    "sns.set_theme(font_scale=1.4, style='whitegrid')"
   ]
  },
  {
   "cell_type": "code",
   "execution_count": 2,
   "metadata": {},
   "outputs": [],
   "source": [
    "from nltk.sentiment.vader import SentimentIntensityAnalyzer\n",
    "sid = SentimentIntensityAnalyzer()"
   ]
  },
  {
   "cell_type": "markdown",
   "metadata": {},
   "source": [
    "### Grabbing Twitter Data with Tweepy"
   ]
  },
  {
   "cell_type": "code",
   "execution_count": 42,
   "metadata": {},
   "outputs": [],
   "source": [
    "consumer_key = \"######\"\n",
    "consumer_secret = \"######\"\n",
    "access_token = \"############\"\n",
    "access_token_secret = \"##############\""
   ]
  },
  {
   "cell_type": "code",
   "execution_count": 4,
   "metadata": {},
   "outputs": [],
   "source": [
    "auth = tw.OAuthHandler(consumer_key, consumer_secret)\n",
    "auth.set_access_token(access_token, access_token_secret)\n",
    "\n",
    "api = tw.API(auth)"
   ]
  },
  {
   "cell_type": "code",
   "execution_count": 5,
   "metadata": {},
   "outputs": [],
   "source": [
    "games = [\"@NintendoAmerica\", \"@Xbox\", \"@PlayStation\"]"
   ]
  },
  {
   "cell_type": "code",
   "execution_count": 6,
   "metadata": {},
   "outputs": [],
   "source": [
    "game_sentiment = []\n",
    "\n",
    "for game in games:\n",
    "    game_tweets = api.user_timeline(game, count=200)\n",
    "    \n",
    "    for tweet in game_tweets:\n",
    "        \n",
    "        game_sentiment.append({\n",
    "            'User': game,\n",
    "            'Tweet': tweet.text,\n",
    "            'Date': tweet.created_at\n",
    "        })"
   ]
  },
  {
   "cell_type": "code",
   "execution_count": 7,
   "metadata": {},
   "outputs": [],
   "source": [
    "# Create DataFrame from Tweets\n",
    "gamedf = pd.DataFrame(game_sentiment)"
   ]
  },
  {
   "cell_type": "code",
   "execution_count": 8,
   "metadata": {},
   "outputs": [
    {
     "data": {
      "text/html": [
       "<div>\n",
       "<style scoped>\n",
       "    .dataframe tbody tr th:only-of-type {\n",
       "        vertical-align: middle;\n",
       "    }\n",
       "\n",
       "    .dataframe tbody tr th {\n",
       "        vertical-align: top;\n",
       "    }\n",
       "\n",
       "    .dataframe thead th {\n",
       "        text-align: right;\n",
       "    }\n",
       "</style>\n",
       "<table border=\"1\" class=\"dataframe\">\n",
       "  <thead>\n",
       "    <tr style=\"text-align: right;\">\n",
       "      <th></th>\n",
       "      <th>User</th>\n",
       "      <th>Tweet</th>\n",
       "      <th>Date</th>\n",
       "    </tr>\n",
       "  </thead>\n",
       "  <tbody>\n",
       "    <tr>\n",
       "      <th>0</th>\n",
       "      <td>@NintendoAmerica</td>\n",
       "      <td>Starting today, #DragonQuestXIS: Echoes of an ...</td>\n",
       "      <td>2020-12-07 22:00:02</td>\n",
       "    </tr>\n",
       "    <tr>\n",
       "      <th>1</th>\n",
       "      <td>@NintendoAmerica</td>\n",
       "      <td>RT @Ubisoft: Get ready to level up…\\n\\n#ScottP...</td>\n",
       "      <td>2020-12-07 17:13:33</td>\n",
       "    </tr>\n",
       "    <tr>\n",
       "      <th>2</th>\n",
       "      <td>@NintendoAmerica</td>\n",
       "      <td>RT @FortniteGame: Live...and in game! Poison I...</td>\n",
       "      <td>2020-12-05 01:00:17</td>\n",
       "    </tr>\n",
       "    <tr>\n",
       "      <th>3</th>\n",
       "      <td>@NintendoAmerica</td>\n",
       "      <td>Take a deep breath and get stretching, #Fitnes...</td>\n",
       "      <td>2020-12-05 00:01:05</td>\n",
       "    </tr>\n",
       "    <tr>\n",
       "      <th>4</th>\n",
       "      <td>@NintendoAmerica</td>\n",
       "      <td>NO PURCH. NEC. Must be US &amp;amp; CAN res age 13...</td>\n",
       "      <td>2020-12-04 23:50:27</td>\n",
       "    </tr>\n",
       "    <tr>\n",
       "      <th>5</th>\n",
       "      <td>@NintendoAmerica</td>\n",
       "      <td>The #Splatoon2 North American Open December 20...</td>\n",
       "      <td>2020-12-04 23:50:26</td>\n",
       "    </tr>\n",
       "    <tr>\n",
       "      <th>6</th>\n",
       "      <td>@NintendoAmerica</td>\n",
       "      <td>Can you name every K.K. Slider song? Play alon...</td>\n",
       "      <td>2020-12-04 23:01:27</td>\n",
       "    </tr>\n",
       "    <tr>\n",
       "      <th>7</th>\n",
       "      <td>@NintendoAmerica</td>\n",
       "      <td>Grab a warm beverage, put on your favorite swe...</td>\n",
       "      <td>2020-12-04 22:00:02</td>\n",
       "    </tr>\n",
       "    <tr>\n",
       "      <th>8</th>\n",
       "      <td>@NintendoAmerica</td>\n",
       "      <td>Welcome to Nintendo Monthly Rewind, our offici...</td>\n",
       "      <td>2020-12-04 20:14:14</td>\n",
       "    </tr>\n",
       "    <tr>\n",
       "      <th>9</th>\n",
       "      <td>@NintendoAmerica</td>\n",
       "      <td>The Super Mario All-Stars Edition #Tetris99 MA...</td>\n",
       "      <td>2020-12-04 19:00:01</td>\n",
       "    </tr>\n",
       "  </tbody>\n",
       "</table>\n",
       "</div>"
      ],
      "text/plain": [
       "               User                                              Tweet  \\\n",
       "0  @NintendoAmerica  Starting today, #DragonQuestXIS: Echoes of an ...   \n",
       "1  @NintendoAmerica  RT @Ubisoft: Get ready to level up…\\n\\n#ScottP...   \n",
       "2  @NintendoAmerica  RT @FortniteGame: Live...and in game! Poison I...   \n",
       "3  @NintendoAmerica  Take a deep breath and get stretching, #Fitnes...   \n",
       "4  @NintendoAmerica  NO PURCH. NEC. Must be US &amp; CAN res age 13...   \n",
       "5  @NintendoAmerica  The #Splatoon2 North American Open December 20...   \n",
       "6  @NintendoAmerica  Can you name every K.K. Slider song? Play alon...   \n",
       "7  @NintendoAmerica  Grab a warm beverage, put on your favorite swe...   \n",
       "8  @NintendoAmerica  Welcome to Nintendo Monthly Rewind, our offici...   \n",
       "9  @NintendoAmerica  The Super Mario All-Stars Edition #Tetris99 MA...   \n",
       "\n",
       "                 Date  \n",
       "0 2020-12-07 22:00:02  \n",
       "1 2020-12-07 17:13:33  \n",
       "2 2020-12-05 01:00:17  \n",
       "3 2020-12-05 00:01:05  \n",
       "4 2020-12-04 23:50:27  \n",
       "5 2020-12-04 23:50:26  \n",
       "6 2020-12-04 23:01:27  \n",
       "7 2020-12-04 22:00:02  \n",
       "8 2020-12-04 20:14:14  \n",
       "9 2020-12-04 19:00:01  "
      ]
     },
     "execution_count": 8,
     "metadata": {},
     "output_type": "execute_result"
    }
   ],
   "source": [
    "gamedf.head(10)"
   ]
  },
  {
   "cell_type": "code",
   "execution_count": 9,
   "metadata": {},
   "outputs": [
    {
     "data": {
      "text/html": [
       "<div>\n",
       "<style scoped>\n",
       "    .dataframe tbody tr th:only-of-type {\n",
       "        vertical-align: middle;\n",
       "    }\n",
       "\n",
       "    .dataframe tbody tr th {\n",
       "        vertical-align: top;\n",
       "    }\n",
       "\n",
       "    .dataframe thead th {\n",
       "        text-align: right;\n",
       "    }\n",
       "</style>\n",
       "<table border=\"1\" class=\"dataframe\">\n",
       "  <thead>\n",
       "    <tr style=\"text-align: right;\">\n",
       "      <th></th>\n",
       "      <th>User</th>\n",
       "      <th>Tweet</th>\n",
       "      <th>Date</th>\n",
       "    </tr>\n",
       "  </thead>\n",
       "  <tbody>\n",
       "    <tr>\n",
       "      <th>595</th>\n",
       "      <td>@PlayStation</td>\n",
       "      <td>Is there any better feeling in the world than ...</td>\n",
       "      <td>2020-11-15 20:46:00</td>\n",
       "    </tr>\n",
       "    <tr>\n",
       "      <th>596</th>\n",
       "      <td>@PlayStation</td>\n",
       "      <td>Bring us pictures of Spider-Man!\\n\\nBecome the...</td>\n",
       "      <td>2020-11-15 18:42:01</td>\n",
       "    </tr>\n",
       "    <tr>\n",
       "      <th>597</th>\n",
       "      <td>@PlayStation</td>\n",
       "      <td>Feeling is believing. Grass brushes your finge...</td>\n",
       "      <td>2020-11-15 18:05:00</td>\n",
       "    </tr>\n",
       "    <tr>\n",
       "      <th>598</th>\n",
       "      <td>@PlayStation</td>\n",
       "      <td>Nacht Der Untoten returns in #BlackOpsColdWar....</td>\n",
       "      <td>2020-11-14 23:24:00</td>\n",
       "    </tr>\n",
       "    <tr>\n",
       "      <th>599</th>\n",
       "      <td>@PlayStation</td>\n",
       "      <td>Web-heads and sneakerheads unite! Details on t...</td>\n",
       "      <td>2020-11-14 21:20:02</td>\n",
       "    </tr>\n",
       "  </tbody>\n",
       "</table>\n",
       "</div>"
      ],
      "text/plain": [
       "             User                                              Tweet  \\\n",
       "595  @PlayStation  Is there any better feeling in the world than ...   \n",
       "596  @PlayStation  Bring us pictures of Spider-Man!\\n\\nBecome the...   \n",
       "597  @PlayStation  Feeling is believing. Grass brushes your finge...   \n",
       "598  @PlayStation  Nacht Der Untoten returns in #BlackOpsColdWar....   \n",
       "599  @PlayStation  Web-heads and sneakerheads unite! Details on t...   \n",
       "\n",
       "                   Date  \n",
       "595 2020-11-15 20:46:00  \n",
       "596 2020-11-15 18:42:01  \n",
       "597 2020-11-15 18:05:00  \n",
       "598 2020-11-14 23:24:00  \n",
       "599 2020-11-14 21:20:02  "
      ]
     },
     "execution_count": 9,
     "metadata": {},
     "output_type": "execute_result"
    }
   ],
   "source": [
    "gamedf.tail()"
   ]
  },
  {
   "cell_type": "code",
   "execution_count": 10,
   "metadata": {},
   "outputs": [
    {
     "data": {
      "text/plain": [
       "User     0\n",
       "Tweet    0\n",
       "Date     0\n",
       "dtype: int64"
      ]
     },
     "execution_count": 10,
     "metadata": {},
     "output_type": "execute_result"
    }
   ],
   "source": [
    "gamedf.isnull().sum()"
   ]
  },
  {
   "cell_type": "code",
   "execution_count": 11,
   "metadata": {
    "scrolled": true
   },
   "outputs": [
    {
     "data": {
      "text/plain": [
       "(600, 3)"
      ]
     },
     "execution_count": 11,
     "metadata": {},
     "output_type": "execute_result"
    }
   ],
   "source": [
    "gamedf.shape"
   ]
  },
  {
   "cell_type": "code",
   "execution_count": 12,
   "metadata": {},
   "outputs": [
    {
     "data": {
      "text/plain": [
       "@Xbox               200\n",
       "@PlayStation        200\n",
       "@NintendoAmerica    200\n",
       "Name: User, dtype: int64"
      ]
     },
     "execution_count": 12,
     "metadata": {},
     "output_type": "execute_result"
    }
   ],
   "source": [
    "gamedf['User'].value_counts()"
   ]
  },
  {
   "cell_type": "code",
   "execution_count": 13,
   "metadata": {},
   "outputs": [
    {
     "name": "stdout",
     "output_type": "stream",
     "text": [
      "<class 'pandas.core.frame.DataFrame'>\n",
      "RangeIndex: 600 entries, 0 to 599\n",
      "Data columns (total 3 columns):\n",
      " #   Column  Non-Null Count  Dtype         \n",
      "---  ------  --------------  -----         \n",
      " 0   User    600 non-null    object        \n",
      " 1   Tweet   600 non-null    object        \n",
      " 2   Date    600 non-null    datetime64[ns]\n",
      "dtypes: datetime64[ns](1), object(2)\n",
      "memory usage: 14.2+ KB\n"
     ]
    }
   ],
   "source": [
    "gamedf.info()"
   ]
  },
  {
   "cell_type": "markdown",
   "metadata": {},
   "source": [
    "### Transforming/Cleaning Tweets "
   ]
  },
  {
   "cell_type": "code",
   "execution_count": 14,
   "metadata": {},
   "outputs": [],
   "source": [
    "def pattern_removal(tweet, pattern):\n",
    "    \n",
    "    # find the given pattern in a text\n",
    "    find_patterns = re.findall(pattern, tweet)\n",
    "    \n",
    "    # loop through patterns in a tweet and delete it\n",
    "    for found in find_patterns:\n",
    "        tweet = re.sub(found, '', tweet)\n",
    "        \n",
    "    return tweet"
   ]
  },
  {
   "cell_type": "code",
   "execution_count": 15,
   "metadata": {},
   "outputs": [],
   "source": [
    "# clean the tweets to allow for greater insights from tweets\n",
    "def preprocess_tweets(tweets):\n",
    "    \n",
    "    # remove RT and handles\n",
    "    tweets = np.vectorize(pattern_removal)(tweets, 'RT @[\\w]+:')\n",
    "    \n",
    "    # remove handles\n",
    "    tweets = np.vectorize(pattern_removal)(tweets, '@[\\w]+')\n",
    "    \n",
    "    # remove videos and images\n",
    "    tweets = np.vectorize(pattern_removal)(tweets, '(://|.co/)[a-zA-Z0-9\\\\./]')\n",
    "    \n",
    "    # remove URLs\n",
    "    tweets = np.vectorize(pattern_removal)(tweets, '(http|https|ftp)://[a-zA-Z0-9\\\\./]+')\n",
    "    \n",
    "    return tweets"
   ]
  },
  {
   "cell_type": "code",
   "execution_count": 16,
   "metadata": {},
   "outputs": [],
   "source": [
    "gamedf['Tweet'] = preprocess_tweets(gamedf['Tweet'])"
   ]
  },
  {
   "cell_type": "code",
   "execution_count": 17,
   "metadata": {},
   "outputs": [
    {
     "data": {
      "text/html": [
       "<div>\n",
       "<style scoped>\n",
       "    .dataframe tbody tr th:only-of-type {\n",
       "        vertical-align: middle;\n",
       "    }\n",
       "\n",
       "    .dataframe tbody tr th {\n",
       "        vertical-align: top;\n",
       "    }\n",
       "\n",
       "    .dataframe thead th {\n",
       "        text-align: right;\n",
       "    }\n",
       "</style>\n",
       "<table border=\"1\" class=\"dataframe\">\n",
       "  <thead>\n",
       "    <tr style=\"text-align: right;\">\n",
       "      <th></th>\n",
       "      <th>User</th>\n",
       "      <th>Tweet</th>\n",
       "      <th>Date</th>\n",
       "    </tr>\n",
       "  </thead>\n",
       "  <tbody>\n",
       "    <tr>\n",
       "      <th>0</th>\n",
       "      <td>@NintendoAmerica</td>\n",
       "      <td>Starting today, #DragonQuestXIS: Echoes of an ...</td>\n",
       "      <td>2020-12-07 22:00:02</td>\n",
       "    </tr>\n",
       "    <tr>\n",
       "      <th>1</th>\n",
       "      <td>@NintendoAmerica</td>\n",
       "      <td>Get ready to level up…\\n\\n#ScottPilgrimGame l...</td>\n",
       "      <td>2020-12-07 17:13:33</td>\n",
       "    </tr>\n",
       "    <tr>\n",
       "      <th>2</th>\n",
       "      <td>@NintendoAmerica</td>\n",
       "      <td>Live...and in game! Poison Ivy, Midas Rex, an...</td>\n",
       "      <td>2020-12-05 01:00:17</td>\n",
       "    </tr>\n",
       "    <tr>\n",
       "      <th>3</th>\n",
       "      <td>@NintendoAmerica</td>\n",
       "      <td>Take a deep breath and get stretching, #Fitnes...</td>\n",
       "      <td>2020-12-05 00:01:05</td>\n",
       "    </tr>\n",
       "    <tr>\n",
       "      <th>4</th>\n",
       "      <td>@NintendoAmerica</td>\n",
       "      <td>NO PURCH. NEC. Must be US &amp;amp; CAN res age 13...</td>\n",
       "      <td>2020-12-04 23:50:27</td>\n",
       "    </tr>\n",
       "  </tbody>\n",
       "</table>\n",
       "</div>"
      ],
      "text/plain": [
       "               User                                              Tweet  \\\n",
       "0  @NintendoAmerica  Starting today, #DragonQuestXIS: Echoes of an ...   \n",
       "1  @NintendoAmerica   Get ready to level up…\\n\\n#ScottPilgrimGame l...   \n",
       "2  @NintendoAmerica   Live...and in game! Poison Ivy, Midas Rex, an...   \n",
       "3  @NintendoAmerica  Take a deep breath and get stretching, #Fitnes...   \n",
       "4  @NintendoAmerica  NO PURCH. NEC. Must be US &amp; CAN res age 13...   \n",
       "\n",
       "                 Date  \n",
       "0 2020-12-07 22:00:02  \n",
       "1 2020-12-07 17:13:33  \n",
       "2 2020-12-05 01:00:17  \n",
       "3 2020-12-05 00:01:05  \n",
       "4 2020-12-04 23:50:27  "
      ]
     },
     "execution_count": 17,
     "metadata": {},
     "output_type": "execute_result"
    }
   ],
   "source": [
    "gamedf.head()"
   ]
  },
  {
   "cell_type": "markdown",
   "metadata": {},
   "source": [
    "### Sentiment Analysis of Tweets"
   ]
  },
  {
   "cell_type": "code",
   "execution_count": 18,
   "metadata": {},
   "outputs": [],
   "source": [
    "sentiments = gamedf['Tweet'].apply(lambda x: sid.polarity_scores(x))"
   ]
  },
  {
   "cell_type": "code",
   "execution_count": 19,
   "metadata": {},
   "outputs": [
    {
     "data": {
      "text/plain": [
       "0    {'neg': 0.0, 'neu': 1.0, 'pos': 0.0, 'compound...\n",
       "1    {'neg': 0.0, 'neu': 0.763, 'pos': 0.237, 'comp...\n",
       "2    {'neg': 0.127, 'neu': 0.652, 'pos': 0.222, 'co...\n",
       "3    {'neg': 0.0, 'neu': 1.0, 'pos': 0.0, 'compound...\n",
       "4    {'neg': 0.109, 'neu': 0.891, 'pos': 0.0, 'comp...\n",
       "Name: Tweet, dtype: object"
      ]
     },
     "execution_count": 19,
     "metadata": {},
     "output_type": "execute_result"
    }
   ],
   "source": [
    "sentiments[:5]"
   ]
  },
  {
   "cell_type": "code",
   "execution_count": 20,
   "metadata": {},
   "outputs": [],
   "source": [
    "sent_list = ['neg', 'neu', 'pos', 'compound']\n",
    "\n",
    "for sent in sent_list:\n",
    "    gamedf[sent] = sentiments.apply(lambda x: x[sent])"
   ]
  },
  {
   "cell_type": "code",
   "execution_count": 21,
   "metadata": {},
   "outputs": [],
   "source": [
    "def comp_scores(x):\n",
    "    if x >= 0.05: return 'POSITIVE'\n",
    "    elif x <= -0.05: return 'NEGATIVE'\n",
    "    return 'NEUTRAL'"
   ]
  },
  {
   "cell_type": "code",
   "execution_count": 22,
   "metadata": {},
   "outputs": [],
   "source": [
    "# Create new features of tweet sentiments\n",
    "gamedf['comp_score'] = gamedf['compound'].apply(comp_scores)"
   ]
  },
  {
   "cell_type": "code",
   "execution_count": 23,
   "metadata": {
    "scrolled": false
   },
   "outputs": [
    {
     "data": {
      "text/html": [
       "<div>\n",
       "<style scoped>\n",
       "    .dataframe tbody tr th:only-of-type {\n",
       "        vertical-align: middle;\n",
       "    }\n",
       "\n",
       "    .dataframe tbody tr th {\n",
       "        vertical-align: top;\n",
       "    }\n",
       "\n",
       "    .dataframe thead th {\n",
       "        text-align: right;\n",
       "    }\n",
       "</style>\n",
       "<table border=\"1\" class=\"dataframe\">\n",
       "  <thead>\n",
       "    <tr style=\"text-align: right;\">\n",
       "      <th></th>\n",
       "      <th>User</th>\n",
       "      <th>Tweet</th>\n",
       "      <th>Date</th>\n",
       "      <th>neg</th>\n",
       "      <th>neu</th>\n",
       "      <th>pos</th>\n",
       "      <th>compound</th>\n",
       "      <th>comp_score</th>\n",
       "    </tr>\n",
       "  </thead>\n",
       "  <tbody>\n",
       "    <tr>\n",
       "      <th>0</th>\n",
       "      <td>@NintendoAmerica</td>\n",
       "      <td>Starting today, #DragonQuestXIS: Echoes of an ...</td>\n",
       "      <td>2020-12-07 22:00:02</td>\n",
       "      <td>0.000</td>\n",
       "      <td>1.000</td>\n",
       "      <td>0.000</td>\n",
       "      <td>0.0000</td>\n",
       "      <td>NEUTRAL</td>\n",
       "    </tr>\n",
       "    <tr>\n",
       "      <th>1</th>\n",
       "      <td>@NintendoAmerica</td>\n",
       "      <td>Get ready to level up…\\n\\n#ScottPilgrimGame l...</td>\n",
       "      <td>2020-12-07 17:13:33</td>\n",
       "      <td>0.000</td>\n",
       "      <td>0.763</td>\n",
       "      <td>0.237</td>\n",
       "      <td>0.4199</td>\n",
       "      <td>POSITIVE</td>\n",
       "    </tr>\n",
       "    <tr>\n",
       "      <th>2</th>\n",
       "      <td>@NintendoAmerica</td>\n",
       "      <td>Live...and in game! Poison Ivy, Midas Rex, an...</td>\n",
       "      <td>2020-12-05 01:00:17</td>\n",
       "      <td>0.127</td>\n",
       "      <td>0.652</td>\n",
       "      <td>0.222</td>\n",
       "      <td>0.3869</td>\n",
       "      <td>POSITIVE</td>\n",
       "    </tr>\n",
       "    <tr>\n",
       "      <th>3</th>\n",
       "      <td>@NintendoAmerica</td>\n",
       "      <td>Take a deep breath and get stretching, #Fitnes...</td>\n",
       "      <td>2020-12-05 00:01:05</td>\n",
       "      <td>0.000</td>\n",
       "      <td>1.000</td>\n",
       "      <td>0.000</td>\n",
       "      <td>0.0000</td>\n",
       "      <td>NEUTRAL</td>\n",
       "    </tr>\n",
       "    <tr>\n",
       "      <th>4</th>\n",
       "      <td>@NintendoAmerica</td>\n",
       "      <td>NO PURCH. NEC. Must be US &amp;amp; CAN res age 13...</td>\n",
       "      <td>2020-12-04 23:50:27</td>\n",
       "      <td>0.109</td>\n",
       "      <td>0.891</td>\n",
       "      <td>0.000</td>\n",
       "      <td>-0.4466</td>\n",
       "      <td>NEGATIVE</td>\n",
       "    </tr>\n",
       "  </tbody>\n",
       "</table>\n",
       "</div>"
      ],
      "text/plain": [
       "               User                                              Tweet  \\\n",
       "0  @NintendoAmerica  Starting today, #DragonQuestXIS: Echoes of an ...   \n",
       "1  @NintendoAmerica   Get ready to level up…\\n\\n#ScottPilgrimGame l...   \n",
       "2  @NintendoAmerica   Live...and in game! Poison Ivy, Midas Rex, an...   \n",
       "3  @NintendoAmerica  Take a deep breath and get stretching, #Fitnes...   \n",
       "4  @NintendoAmerica  NO PURCH. NEC. Must be US &amp; CAN res age 13...   \n",
       "\n",
       "                 Date    neg    neu    pos  compound comp_score  \n",
       "0 2020-12-07 22:00:02  0.000  1.000  0.000    0.0000    NEUTRAL  \n",
       "1 2020-12-07 17:13:33  0.000  0.763  0.237    0.4199   POSITIVE  \n",
       "2 2020-12-05 01:00:17  0.127  0.652  0.222    0.3869   POSITIVE  \n",
       "3 2020-12-05 00:01:05  0.000  1.000  0.000    0.0000    NEUTRAL  \n",
       "4 2020-12-04 23:50:27  0.109  0.891  0.000   -0.4466   NEGATIVE  "
      ]
     },
     "execution_count": 23,
     "metadata": {},
     "output_type": "execute_result"
    }
   ],
   "source": [
    "gamedf.head()"
   ]
  },
  {
   "cell_type": "code",
   "execution_count": 24,
   "metadata": {},
   "outputs": [],
   "source": [
    "gamedf.to_csv('studio_update.csv', index=False)"
   ]
  },
  {
   "cell_type": "code",
   "execution_count": 25,
   "metadata": {},
   "outputs": [],
   "source": [
    "gamedf = pd.read_csv('studio_update.csv', parse_dates=['Date'])"
   ]
  },
  {
   "cell_type": "code",
   "execution_count": 26,
   "metadata": {},
   "outputs": [],
   "source": [
    "gamedf.sort_values(by='Date', inplace=True)"
   ]
  },
  {
   "cell_type": "code",
   "execution_count": 27,
   "metadata": {},
   "outputs": [],
   "source": [
    "# Create new feature based on month and day\n",
    "gamedf['MM-DD'] = gamedf['Date'].dt.strftime('%m-%d')"
   ]
  },
  {
   "cell_type": "code",
   "execution_count": 28,
   "metadata": {},
   "outputs": [
    {
     "data": {
      "text/html": [
       "<div>\n",
       "<style scoped>\n",
       "    .dataframe tbody tr th:only-of-type {\n",
       "        vertical-align: middle;\n",
       "    }\n",
       "\n",
       "    .dataframe tbody tr th {\n",
       "        vertical-align: top;\n",
       "    }\n",
       "\n",
       "    .dataframe thead th {\n",
       "        text-align: right;\n",
       "    }\n",
       "</style>\n",
       "<table border=\"1\" class=\"dataframe\">\n",
       "  <thead>\n",
       "    <tr style=\"text-align: right;\">\n",
       "      <th></th>\n",
       "      <th>User</th>\n",
       "      <th>Tweet</th>\n",
       "      <th>Date</th>\n",
       "      <th>neg</th>\n",
       "      <th>neu</th>\n",
       "      <th>pos</th>\n",
       "      <th>compound</th>\n",
       "      <th>comp_score</th>\n",
       "      <th>MM-DD</th>\n",
       "    </tr>\n",
       "  </thead>\n",
       "  <tbody>\n",
       "    <tr>\n",
       "      <th>199</th>\n",
       "      <td>@NintendoAmerica</td>\n",
       "      <td>Happy #Halloween! Wishing you a frightfully fu...</td>\n",
       "      <td>2020-10-31 15:00:08</td>\n",
       "      <td>0.167</td>\n",
       "      <td>0.247</td>\n",
       "      <td>0.586</td>\n",
       "      <td>0.7772</td>\n",
       "      <td>POSITIVE</td>\n",
       "      <td>10-31</td>\n",
       "    </tr>\n",
       "    <tr>\n",
       "      <th>198</th>\n",
       "      <td>@NintendoAmerica</td>\n",
       "      <td>Ruined King: A League of Legends Story from  a...</td>\n",
       "      <td>2020-10-31 16:01:09</td>\n",
       "      <td>0.193</td>\n",
       "      <td>0.807</td>\n",
       "      <td>0.000</td>\n",
       "      <td>-0.4767</td>\n",
       "      <td>NEGATIVE</td>\n",
       "      <td>10-31</td>\n",
       "    </tr>\n",
       "    <tr>\n",
       "      <th>197</th>\n",
       "      <td>@NintendoAmerica</td>\n",
       "      <td>Who's walking up to their island residents wit...</td>\n",
       "      <td>2020-10-31 19:00:12</td>\n",
       "      <td>0.000</td>\n",
       "      <td>0.835</td>\n",
       "      <td>0.165</td>\n",
       "      <td>0.3346</td>\n",
       "      <td>POSITIVE</td>\n",
       "      <td>10-31</td>\n",
       "    </tr>\n",
       "    <tr>\n",
       "      <th>196</th>\n",
       "      <td>@NintendoAmerica</td>\n",
       "      <td>Reminder at 5 PM to Midnight #ACNHHalloween ht...</td>\n",
       "      <td>2020-10-31 21:00:00</td>\n",
       "      <td>0.000</td>\n",
       "      <td>1.000</td>\n",
       "      <td>0.000</td>\n",
       "      <td>0.0000</td>\n",
       "      <td>NEUTRAL</td>\n",
       "      <td>10-31</td>\n",
       "    </tr>\n",
       "    <tr>\n",
       "      <th>195</th>\n",
       "      <td>@NintendoAmerica</td>\n",
       "      <td>JOBSKI APPRECIATION – A Thread\\n\\n#PartTimeUFO...</td>\n",
       "      <td>2020-11-01 16:49:20</td>\n",
       "      <td>0.000</td>\n",
       "      <td>0.498</td>\n",
       "      <td>0.502</td>\n",
       "      <td>0.6166</td>\n",
       "      <td>POSITIVE</td>\n",
       "      <td>11-01</td>\n",
       "    </tr>\n",
       "  </tbody>\n",
       "</table>\n",
       "</div>"
      ],
      "text/plain": [
       "                 User                                              Tweet  \\\n",
       "199  @NintendoAmerica  Happy #Halloween! Wishing you a frightfully fu...   \n",
       "198  @NintendoAmerica  Ruined King: A League of Legends Story from  a...   \n",
       "197  @NintendoAmerica  Who's walking up to their island residents wit...   \n",
       "196  @NintendoAmerica  Reminder at 5 PM to Midnight #ACNHHalloween ht...   \n",
       "195  @NintendoAmerica  JOBSKI APPRECIATION – A Thread\\n\\n#PartTimeUFO...   \n",
       "\n",
       "                   Date    neg    neu    pos  compound comp_score  MM-DD  \n",
       "199 2020-10-31 15:00:08  0.167  0.247  0.586    0.7772   POSITIVE  10-31  \n",
       "198 2020-10-31 16:01:09  0.193  0.807  0.000   -0.4767   NEGATIVE  10-31  \n",
       "197 2020-10-31 19:00:12  0.000  0.835  0.165    0.3346   POSITIVE  10-31  \n",
       "196 2020-10-31 21:00:00  0.000  1.000  0.000    0.0000    NEUTRAL  10-31  \n",
       "195 2020-11-01 16:49:20  0.000  0.498  0.502    0.6166   POSITIVE  11-01  "
      ]
     },
     "execution_count": 28,
     "metadata": {},
     "output_type": "execute_result"
    }
   ],
   "source": [
    "gamedf.head()"
   ]
  },
  {
   "cell_type": "markdown",
   "metadata": {},
   "source": [
    "### Console's twitter account timeline - Sentiment Analysis"
   ]
  },
  {
   "cell_type": "markdown",
   "metadata": {},
   "source": [
    "#### Average Sentiment per Console"
   ]
  },
  {
   "cell_type": "code",
   "execution_count": 29,
   "metadata": {},
   "outputs": [
    {
     "data": {
      "text/plain": [
       "User\n",
       "@NintendoAmerica    0.223286\n",
       "@PlayStation        0.166502\n",
       "@Xbox               0.282096\n",
       "Name: compound, dtype: float64"
      ]
     },
     "execution_count": 29,
     "metadata": {},
     "output_type": "execute_result"
    }
   ],
   "source": [
    "# Examine Average Sentiments for each console\n",
    "gamedf.groupby('User')['compound'].mean()"
   ]
  },
  {
   "cell_type": "code",
   "execution_count": 30,
   "metadata": {},
   "outputs": [
    {
     "data": {
      "image/png": "[encoded data removed]",
      "text/plain": [
       "<Figure size 720x432 with 1 Axes>"
      ]
     },
     "metadata": {},
     "output_type": "display_data"
    }
   ],
   "source": [
    "plt.figure(figsize=(10,6))\n",
    "gamedf.groupby('User')['compound'].mean().plot(kind='bar', color=['#e4000f','#003087','#0e7a0d'])\n",
    "plt.title('Gaming Console Sentiments')\n",
    "plt.xlabel('Gaming Console')\n",
    "plt.show()"
   ]
  },
  {
   "cell_type": "markdown",
   "metadata": {},
   "source": [
    "#### Console's twitter account - tweeted sentiment counts"
   ]
  },
  {
   "cell_type": "code",
   "execution_count": 31,
   "metadata": {},
   "outputs": [
    {
     "data": {
      "image/png": "[encoded data removed]",
      "text/plain": [
       "<Figure size 720x432 with 1 Axes>"
      ]
     },
     "metadata": {},
     "output_type": "display_data"
    }
   ],
   "source": [
    "plt.figure(figsize=(10,6))\n",
    "sns.countplot(x=gamedf['User'], hue=gamedf['comp_score'])\n",
    "plt.legend(title=\"Sentiment\", bbox_to_anchor=(1,0.7), loc=\"lower left\", prop={'size':12})\n",
    "plt.title('Overall Sentiments')\n",
    "plt.xlabel('Gaming Console')\n",
    "plt.show()"
   ]
  },
  {
   "cell_type": "markdown",
   "metadata": {},
   "source": [
    "#### Console's twitter account - sentiment frequency"
   ]
  },
  {
   "cell_type": "code",
   "execution_count": 32,
   "metadata": {},
   "outputs": [
    {
     "data": {
      "image/png": "[encoded data removed]",
      "text/plain": [
       "<Figure size 864x864 with 3 Axes>"
      ]
     },
     "metadata": {},
     "output_type": "display_data"
    }
   ],
   "source": [
    "fig, ax = plt.subplots(nrows=3, figsize=(12,12), sharex='col')\n",
    "ax[0].hist(gamedf[gamedf['User'] == '@NintendoAmerica']['compound'], color='#e4000f')\n",
    "ax[1].hist(gamedf[gamedf['User'] == '@PlayStation']['compound'], color='#003087')\n",
    "ax[2].hist(gamedf[gamedf['User'] == '@Xbox']['compound'], color='#0e7a0d')\n",
    "\n",
    "ax[0].set_title('@NintendoAmerica Sentiment Score Frequency')\n",
    "ax[1].set_title('@PlayStation Sentiment Score Frequency')\n",
    "ax[2].set_title('@Xbo Sentiment Score Frequency')\n",
    "ax[2].set_xlabel('Sentiment Scores')\n",
    "plt.show()"
   ]
  },
  {
   "cell_type": "markdown",
   "metadata": {},
   "source": [
    "#### Console's account - sentiments per day"
   ]
  },
  {
   "cell_type": "code",
   "execution_count": 33,
   "metadata": {},
   "outputs": [
    {
     "data": {
      "text/plain": [
       "Timestamp('2020-12-08 02:00:01')"
      ]
     },
     "execution_count": 33,
     "metadata": {},
     "output_type": "execute_result"
    }
   ],
   "source": [
    "gamedf['Date'].max()"
   ]
  },
  {
   "cell_type": "code",
   "execution_count": 34,
   "metadata": {
    "scrolled": false
   },
   "outputs": [
    {
     "data": {
      "text/plain": [
       "Timestamp('2020-10-31 15:00:08')"
      ]
     },
     "execution_count": 34,
     "metadata": {},
     "output_type": "execute_result"
    }
   ],
   "source": [
    "gamedf['Date'].min()"
   ]
  },
  {
   "cell_type": "code",
   "execution_count": 35,
   "metadata": {},
   "outputs": [
    {
     "data": {
      "text/plain": [
       "Timestamp('2020-11-30 18:20:26')"
      ]
     },
     "execution_count": 35,
     "metadata": {},
     "output_type": "execute_result"
    }
   ],
   "source": [
    "gamedf[gamedf['User'] == '@Xbox']['Date'].min()"
   ]
  },
  {
   "cell_type": "code",
   "execution_count": 36,
   "metadata": {},
   "outputs": [
    {
     "data": {
      "text/plain": [
       "Timestamp('2020-11-14 21:20:02')"
      ]
     },
     "execution_count": 36,
     "metadata": {},
     "output_type": "execute_result"
    }
   ],
   "source": [
    "gamedf[gamedf['User'] == '@PlayStation']['Date'].min()"
   ]
  },
  {
   "cell_type": "code",
   "execution_count": 37,
   "metadata": {},
   "outputs": [
    {
     "data": {
      "text/plain": [
       "Timestamp('2020-10-31 15:00:08')"
      ]
     },
     "execution_count": 37,
     "metadata": {},
     "output_type": "execute_result"
    }
   ],
   "source": [
    "gamedf[gamedf['User'] == '@NintendoAmerica']['Date'].min()"
   ]
  },
  {
   "cell_type": "code",
   "execution_count": 38,
   "metadata": {},
   "outputs": [],
   "source": [
    "newdf = gamedf[gamedf['MM-DD'] >= '11-14']"
   ]
  },
  {
   "cell_type": "code",
   "execution_count": 39,
   "metadata": {},
   "outputs": [
    {
     "data": {
      "image/png": "[encoded data removed]",
      "text/plain": [
       "<Figure size 864x432 with 1 Axes>"
      ]
     },
     "metadata": {},
     "output_type": "display_data"
    }
   ],
   "source": [
    "plt.figure(figsize=(12,6))\n",
    "newdf[newdf['User'] == '@NintendoAmerica'].groupby('MM-DD')['compound'].mean().plot(kind='bar',color='#e4000f')\n",
    "plt.title('@NintendoAmerica Avg Sentiment Score per Day')\n",
    "plt.xlabel('Date')\n",
    "plt.ylabel('AVG Sentiment Score')\n",
    "plt.show()"
   ]
  },
  {
   "cell_type": "code",
   "execution_count": 40,
   "metadata": {},
   "outputs": [
    {
     "data": {
      "image/png": "[encoded data removed]",
      "text/plain": [
       "<Figure size 864x432 with 1 Axes>"
      ]
     },
     "metadata": {},
     "output_type": "display_data"
    }
   ],
   "source": [
    "plt.figure(figsize=(12,6))\n",
    "gamedf[gamedf['User'] == '@PlayStation'].groupby('MM-DD')['compound'].mean().plot(kind='bar',color='#003087')\n",
    "plt.title('@PlayStation Avg Sentiment Score per Day')\n",
    "plt.xlabel('Date')\n",
    "plt.ylabel('AVG Sentiment Score')\n",
    "plt.show()"
   ]
  },
  {
   "cell_type": "code",
   "execution_count": 41,
   "metadata": {
    "scrolled": false
   },
   "outputs": [
    {
     "data": {
      "image/png": "[encoded data removed]",
      "text/plain": [
       "<Figure size 864x432 with 1 Axes>"
      ]
     },
     "metadata": {},
     "output_type": "display_data"
    }
   ],
   "source": [
    "plt.figure(figsize=(12,6))\n",
    "gamedf[gamedf['User'] == '@Xbox'].groupby('MM-DD')['compound'].mean().plot(kind='bar',color='#0e7a0d')\n",
    "plt.title('@Xbox Avg Sentiment Score per Day')\n",
    "plt.xlabel('Date')\n",
    "plt.ylabel('AVG Sentiment Score')\n",
    "plt.show()"
   ]
  },
  {
   "cell_type": "code",
   "execution_count": null,
   "metadata": {},
   "outputs": [],
   "source": []
  }
 ],
 "metadata": {
  "kernelspec": {
   "display_name": "Python 3",
   "language": "python",
   "name": "python3"
  },
  "language_info": {
   "codemirror_mode": {
    "name": "ipython",
    "version": 3
   },
   "file_extension": ".py",
   "mimetype": "text/x-python",
   "name": "python",
   "nbconvert_exporter": "python",
   "pygments_lexer": "ipython3",
   "version": "3.8.5"
  }
 },
 "nbformat": 4,
 "nbformat_minor": 4
}
